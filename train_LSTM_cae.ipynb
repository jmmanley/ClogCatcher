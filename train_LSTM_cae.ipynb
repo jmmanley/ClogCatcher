{
 "cells": [
  {
   "cell_type": "code",
   "execution_count": 1,
   "metadata": {},
   "outputs": [
    {
     "name": "stderr",
     "output_type": "stream",
     "text": [
      "Using TensorFlow backend.\n"
     ]
    }
   ],
   "source": [
    "import data\n",
    "import os, glob\n",
    "import matplotlib.pyplot as plt\n",
    "import cv2\n",
    "import numpy as np\n",
    "\n",
    "from networks import CNNFeatureLSTM\n",
    "\n",
    "import keras\n",
    "import tensorflow as tf"
   ]
  },
  {
   "cell_type": "code",
   "execution_count": 2,
   "metadata": {},
   "outputs": [],
   "source": [
    "os.environ[\"CUDA_VISIBLE_DEVICES\"]=\"0\""
   ]
  },
  {
   "cell_type": "code",
   "execution_count": 3,
   "metadata": {},
   "outputs": [
    {
     "name": "stdout",
     "output_type": "stream",
     "text": [
      "CROPPING ALL VIDEOS TO SIZE  (224, 224) ...\n",
      "100%|██████████| 2826/2826 [00:00<00:00, 109902.58it/s]\n"
     ]
    }
   ],
   "source": [
    "d = data.ClogData('/ssd_icybox2_1TB/jason/clog-loss-data/', size='nano')"
   ]
  },
  {
   "cell_type": "code",
   "execution_count": 4,
   "metadata": {},
   "outputs": [],
   "source": [
    "from cae import cae\n",
    "input_shape = (224,224,3)\n",
    "latent_dim = 1000\n",
    "cae_model = cae(input_shape, latent_dim)"
   ]
  },
  {
   "cell_type": "code",
   "execution_count": 5,
   "metadata": {},
   "outputs": [],
   "source": [
    "#train_data = d.load_train()"
   ]
  },
  {
   "cell_type": "code",
   "execution_count": 6,
   "metadata": {},
   "outputs": [],
   "source": [
    "#train_data = np.concatenate(train_data)"
   ]
  },
  {
   "cell_type": "code",
   "execution_count": 7,
   "metadata": {
    "scrolled": false
   },
   "outputs": [],
   "source": [
    "#cae_model.fit(train_data, epochs=50, callbacks=[keras.callbacks.BaseLogger(), \n",
    "#                                                keras.callbacks.EarlyStopping(patience=2,monitor='val_loss')],\n",
    "#              validation_split=0.2)"
   ]
  },
  {
   "cell_type": "code",
   "execution_count": 8,
   "metadata": {},
   "outputs": [],
   "source": [
    "#cae_model.save_weights(path=d.path)"
   ]
  },
  {
   "cell_type": "code",
   "execution_count": 5,
   "metadata": {},
   "outputs": [],
   "source": [
    "cae_model.load_weights(path=d.path)"
   ]
  },
  {
   "cell_type": "code",
   "execution_count": 6,
   "metadata": {},
   "outputs": [],
   "source": [
    "cnn = cae_model"
   ]
  },
  {
   "cell_type": "code",
   "execution_count": 7,
   "metadata": {},
   "outputs": [],
   "source": [
    "cnn._keras_api_names = 'cae'\n",
    "cnn._name = 'cae'"
   ]
  },
  {
   "cell_type": "code",
   "execution_count": 8,
   "metadata": {},
   "outputs": [],
   "source": [
    "cnn.predict = lambda x: cnn.encode(x)"
   ]
  },
  {
   "cell_type": "code",
   "execution_count": 9,
   "metadata": {},
   "outputs": [],
   "source": [
    "from tensorflow.keras.callbacks import EarlyStopping\n",
    "from tqdm import tqdm"
   ]
  },
  {
   "cell_type": "code",
   "execution_count": 32,
   "metadata": {
    "scrolled": true
   },
   "outputs": [
    {
     "name": "stdout",
     "output_type": "stream",
     "text": [
      "LOADING CNN FEATURES...\n",
      "\n",
      "TRAINING CLASSIFICATION MODEL...\n",
      "LOADING CNN FEATURES...\n",
      "\n",
      "TRAINING CLASSIFICATION MODEL...\n",
      "LOADING CNN FEATURES...\n",
      "\n",
      "TRAINING CLASSIFICATION MODEL...\n",
      "LOADING CNN FEATURES...\n",
      "\n",
      "TRAINING CLASSIFICATION MODEL...\n",
      "LOADING CNN FEATURES...\n",
      "\n",
      "TRAINING CLASSIFICATION MODEL...\n",
      "LOADING CNN FEATURES...\n",
      "\n",
      "TRAINING CLASSIFICATION MODEL...\n",
      "LOADING CNN FEATURES...\n",
      "\n",
      "TRAINING CLASSIFICATION MODEL...\n",
      "LOADING CNN FEATURES...\n",
      "\n",
      "TRAINING CLASSIFICATION MODEL...\n",
      "LOADING CNN FEATURES...\n",
      "\n",
      "TRAINING CLASSIFICATION MODEL...\n",
      "LOADING CNN FEATURES...\n",
      "\n",
      "TRAINING CLASSIFICATION MODEL...\n",
      "LOADING CNN FEATURES...\n",
      "\n",
      "TRAINING CLASSIFICATION MODEL...\n",
      "LOADING CNN FEATURES...\n",
      "\n",
      "TRAINING CLASSIFICATION MODEL...\n",
      "LOADING CNN FEATURES...\n",
      "\n",
      "TRAINING CLASSIFICATION MODEL...\n",
      "LOADING CNN FEATURES...\n",
      "\n",
      "TRAINING CLASSIFICATION MODEL...\n",
      "LOADING CNN FEATURES...\n",
      "\n",
      "TRAINING CLASSIFICATION MODEL...\n",
      "LOADING CNN FEATURES...\n",
      "\n",
      "TRAINING CLASSIFICATION MODEL...\n",
      "LOADING CNN FEATURES...\n",
      "\n",
      "TRAINING CLASSIFICATION MODEL...\n",
      "LOADING CNN FEATURES...\n",
      "\n",
      "TRAINING CLASSIFICATION MODEL...\n",
      "LOADING CNN FEATURES...\n",
      "\n",
      "TRAINING CLASSIFICATION MODEL...\n",
      "LOADING CNN FEATURES...\n",
      "\n",
      "TRAINING CLASSIFICATION MODEL...\n",
      "LOADING CNN FEATURES...\n",
      "\n",
      "TRAINING CLASSIFICATION MODEL...\n",
      "LOADING CNN FEATURES...\n",
      "\n",
      "TRAINING CLASSIFICATION MODEL...\n",
      "LOADING CNN FEATURES...\n",
      "\n",
      "TRAINING CLASSIFICATION MODEL...\n",
      "LOADING CNN FEATURES...\n",
      "\n",
      "TRAINING CLASSIFICATION MODEL...\n",
      "LOADING CNN FEATURES...\n",
      "\n",
      "TRAINING CLASSIFICATION MODEL...\n",
      "LOADING CNN FEATURES...\n",
      "\n",
      "TRAINING CLASSIFICATION MODEL...\n",
      "LOADING CNN FEATURES...\n",
      "\n",
      "TRAINING CLASSIFICATION MODEL...\n",
      "LOADING CNN FEATURES...\n",
      "\n",
      "TRAINING CLASSIFICATION MODEL...\n",
      "LOADING CNN FEATURES...\n",
      "\n",
      "TRAINING CLASSIFICATION MODEL...\n",
      "LOADING CNN FEATURES...\n",
      "\n",
      "TRAINING CLASSIFICATION MODEL...\n",
      "LOADING CNN FEATURES...\n",
      "\n",
      "TRAINING CLASSIFICATION MODEL...\n",
      "LOADING CNN FEATURES...\n",
      "\n",
      "TRAINING CLASSIFICATION MODEL...\n",
      "LOADING CNN FEATURES...\n",
      "\n",
      "TRAINING CLASSIFICATION MODEL...\n",
      "LOADING CNN FEATURES...\n",
      "\n",
      "TRAINING CLASSIFICATION MODEL...\n",
      "LOADING CNN FEATURES...\n",
      "\n",
      "TRAINING CLASSIFICATION MODEL...\n",
      "LOADING CNN FEATURES...\n",
      "\n",
      "TRAINING CLASSIFICATION MODEL...\n",
      "LOADING CNN FEATURES...\n",
      "\n",
      "TRAINING CLASSIFICATION MODEL...\n",
      "LOADING CNN FEATURES...\n",
      "\n",
      "TRAINING CLASSIFICATION MODEL...\n",
      "LOADING CNN FEATURES...\n",
      "\n",
      "TRAINING CLASSIFICATION MODEL...\n",
      "LOADING CNN FEATURES...\n",
      "\n",
      "TRAINING CLASSIFICATION MODEL...\n",
      "LOADING CNN FEATURES...\n",
      "\n",
      "TRAINING CLASSIFICATION MODEL...\n",
      "LOADING CNN FEATURES...\n",
      "\n",
      "TRAINING CLASSIFICATION MODEL...\n",
      "LOADING CNN FEATURES...\n",
      "\n",
      "TRAINING CLASSIFICATION MODEL...\n",
      "LOADING CNN FEATURES...\n",
      "\n",
      "TRAINING CLASSIFICATION MODEL...\n",
      "LOADING CNN FEATURES...\n",
      "\n",
      "TRAINING CLASSIFICATION MODEL...\n",
      "LOADING CNN FEATURES...\n",
      "\n",
      "TRAINING CLASSIFICATION MODEL...\n",
      "LOADING CNN FEATURES...\n",
      "\n",
      "TRAINING CLASSIFICATION MODEL...\n",
      "LOADING CNN FEATURES...\n",
      "\n",
      "TRAINING CLASSIFICATION MODEL...\n",
      "LOADING CNN FEATURES...\n",
      "\n",
      "TRAINING CLASSIFICATION MODEL...\n",
      "LOADING CNN FEATURES...\n",
      "\n",
      "TRAINING CLASSIFICATION MODEL...\n",
      "LOADING CNN FEATURES...\n",
      "\n",
      "TRAINING CLASSIFICATION MODEL...\n",
      "LOADING CNN FEATURES...\n",
      "\n",
      "TRAINING CLASSIFICATION MODEL...\n",
      "LOADING CNN FEATURES...\n",
      "\n",
      "TRAINING CLASSIFICATION MODEL...\n",
      "LOADING CNN FEATURES...\n",
      "\n",
      "TRAINING CLASSIFICATION MODEL...\n",
      "LOADING CNN FEATURES...\n",
      "\n",
      "TRAINING CLASSIFICATION MODEL...\n",
      "LOADING CNN FEATURES...\n",
      "\n",
      "TRAINING CLASSIFICATION MODEL...\n",
      "LOADING CNN FEATURES...\n",
      "\n",
      "TRAINING CLASSIFICATION MODEL...\n",
      "LOADING CNN FEATURES...\n",
      "\n",
      "TRAINING CLASSIFICATION MODEL...\n",
      "LOADING CNN FEATURES...\n",
      "\n",
      "TRAINING CLASSIFICATION MODEL...\n",
      "LOADING CNN FEATURES...\n",
      "\n",
      "TRAINING CLASSIFICATION MODEL...\n",
      "LOADING CNN FEATURES...\n",
      "\n",
      "TRAINING CLASSIFICATION MODEL...\n",
      "LOADING CNN FEATURES...\n",
      "\n",
      "TRAINING CLASSIFICATION MODEL...\n",
      "LOADING CNN FEATURES...\n",
      "\n",
      "TRAINING CLASSIFICATION MODEL...\n",
      "LOADING CNN FEATURES...\n",
      "\n",
      "TRAINING CLASSIFICATION MODEL...\n",
      "LOADING CNN FEATURES...\n",
      "\n",
      "TRAINING CLASSIFICATION MODEL...\n",
      "LOADING CNN FEATURES...\n",
      "\n",
      "TRAINING CLASSIFICATION MODEL...\n",
      "LOADING CNN FEATURES...\n",
      "\n",
      "TRAINING CLASSIFICATION MODEL...\n",
      "LOADING CNN FEATURES...\n",
      "\n",
      "TRAINING CLASSIFICATION MODEL...\n",
      "LOADING CNN FEATURES...\n",
      "\n",
      "TRAINING CLASSIFICATION MODEL...\n",
      "LOADING CNN FEATURES...\n",
      "\n",
      "TRAINING CLASSIFICATION MODEL...\n"
     ]
    }
   ],
   "source": [
    "# DO SOME QUICK \"CROSS VALIDATION\" FOR NEURAL NET HYPERPARAMETERS\n",
    "\n",
    "lstm_units = [4, 16, 64, 128, 256, 512, 1024]\n",
    "dense_units = [2, 4, 16, 32, 48, 64, 128, 256, 512, 1024]\n",
    "\n",
    "mcc = np.zeros((len(lstm_units), len(dense_units)))\n",
    "acc = np.zeros((len(lstm_units), len(dense_units)))\n",
    "history = np.empty((len(lstm_units), len(dense_units)), dtype=object)\n",
    "\n",
    "for i in range(len(lstm_units)):\n",
    "    for j in range(len(dense_units)):\n",
    "        model = CNNFeatureLSTM(cnn, cnn_dim=latent_dim, lstm_units=lstm_units[i], dense_units=dense_units[j])\n",
    "        \n",
    "        history[i,j] = model.fit(d, epochs=50, callbacks=[EarlyStopping(monitor='val_matthewcorr', \n",
    "                                                           patience=8,\n",
    "                                                           mode='max',\n",
    "                                                           restore_best_weights=True)], verbose=0)\n",
    "\n",
    "        best_epoch = np.argmax(history[i,j].history['val_matthewcorr'])\n",
    "\n",
    "        mcc[i,j] = history[i,j].history['val_matthewcorr'][best_epoch]\n",
    "        acc[i,j] = history[i,j].history['val_accuracy'][best_epoch]"
   ]
  },
  {
   "cell_type": "code",
   "execution_count": 36,
   "metadata": {},
   "outputs": [
    {
     "data": {
      "text/plain": [
       "<matplotlib.colorbar.Colorbar at 0x7fa6382ef350>"
      ]
     },
     "execution_count": 36,
     "metadata": {},
     "output_type": "execute_result"
    },
    {
     "data": {
      "image/png": "[encoded data removed]",
      "text/plain": [
       "<Figure size 411.429x288 with 2 Axes>"
      ]
     },
     "metadata": {
      "needs_background": "light"
     },
     "output_type": "display_data"
    }
   ],
   "source": [
    "plt.matshow(mcc); plt.colorbar()"
   ]
  },
  {
   "cell_type": "code",
   "execution_count": 46,
   "metadata": {
    "scrolled": false
   },
   "outputs": [],
   "source": [
    "model = CNNFeatureLSTM(cnn, cnn_dim=latent_dim, lstm_units=512, dense_units=256)"
   ]
  },
  {
   "cell_type": "code",
   "execution_count": null,
   "metadata": {
    "scrolled": true
   },
   "outputs": [],
   "source": [
    "model.fit(d, epochs=2, callbacks=[EarlyStopping(monitor='val_matthewcorr', \n",
    "                                                           patience=8,\n",
    "                                                           mode='max',\n",
    "                                                           restore_best_weights=True)])"
   ]
  },
  {
   "cell_type": "code",
   "execution_count": null,
   "metadata": {},
   "outputs": [],
   "source": []
  },
  {
   "cell_type": "code",
   "execution_count": 48,
   "metadata": {},
   "outputs": [],
   "source": [
    "model.model.save_weights(os.path.join(d.path, 'cae_lstm_512lstm_256dense_val03146.ckpt'))"
   ]
  },
  {
   "cell_type": "code",
   "execution_count": 14,
   "metadata": {},
   "outputs": [
    {
     "data": {
      "text/plain": [
       "<tensorflow.python.training.tracking.util.CheckpointLoadStatus at 0x7f9404e1b950>"
      ]
     },
     "execution_count": 14,
     "metadata": {},
     "output_type": "execute_result"
    }
   ],
   "source": [
    "model.model.load_weights(os.path.join(d.path, 'cae_lstm_16lstm_16dense_val03146.ckpt'))"
   ]
  },
  {
   "cell_type": "code",
   "execution_count": 49,
   "metadata": {},
   "outputs": [
    {
     "name": "stderr",
     "output_type": "stream",
     "text": [
      "100%|██████████| 14160/14160 [41:08<00:00,  5.74it/s] \n"
     ]
    }
   ],
   "source": [
    "predictions = model.predict(d, train=False)"
   ]
  },
  {
   "cell_type": "code",
   "execution_count": 51,
   "metadata": {},
   "outputs": [
    {
     "data": {
      "text/plain": [
       "array([0.5406231 , 0.37665564, 0.56300265, ..., 0.253256  , 0.6175436 ,\n",
       "       0.9273497 ], dtype=float32)"
      ]
     },
     "execution_count": 51,
     "metadata": {},
     "output_type": "execute_result"
    }
   ],
   "source": [
    "predictions.flatten()"
   ]
  },
  {
   "cell_type": "code",
   "execution_count": 54,
   "metadata": {},
   "outputs": [],
   "source": [
    "import pandas as pd"
   ]
  },
  {
   "cell_type": "code",
   "execution_count": 59,
   "metadata": {},
   "outputs": [],
   "source": [
    "df = pd.DataFrame({'filename':d.test.filename.values, 'stalled': (predictions.flatten() > 0.5).astype(int)})"
   ]
  },
  {
   "cell_type": "code",
   "execution_count": 61,
   "metadata": {},
   "outputs": [],
   "source": [
    "df.to_csv(os.path.join(d.path, 'pred_cae_lstm_512lstm_256dense_val03146.csv'), index=False)"
   ]
  },
  {
   "cell_type": "code",
   "execution_count": null,
   "metadata": {},
   "outputs": [],
   "source": []
  }
 ],
 "metadata": {
  "kernelspec": {
   "display_name": "Python [conda env:clog] *",
   "language": "python",
   "name": "conda-env-clog-py"
  },
  "language_info": {
   "codemirror_mode": {
    "name": "ipython",
    "version": 3
   },
   "file_extension": ".py",
   "mimetype": "text/x-python",
   "name": "python",
   "nbconvert_exporter": "python",
   "pygments_lexer": "ipython3",
   "version": "3.7.7"
  }
 },
 "nbformat": 4,
 "nbformat_minor": 4
}
