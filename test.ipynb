{
 "cells": [
  {
   "cell_type": "code",
   "execution_count": 1,
   "metadata": {},
   "outputs": [],
   "source": [
    "import data\n",
    "import os, glob\n",
    "import matplotlib.pyplot as plt\n",
    "import cv2\n",
    "import numpy as np\n",
    "\n",
    "from networks import CNNFeatureLSTM"
   ]
  },
  {
   "cell_type": "code",
   "execution_count": 2,
   "metadata": {},
   "outputs": [],
   "source": [
    "d = data.ClogData('/ssd_icybox2_1TB/jason/clog-loss-data/', size='nano')"
   ]
  },
  {
   "cell_type": "code",
   "execution_count": 3,
   "metadata": {},
   "outputs": [
    {
     "name": "stdout",
     "output_type": "stream",
     "text": [
      "CROPPING ALL VIDEOS TO SIZE  (224, 224) ...\n",
      "100%|██████████| 2826/2826 [00:00<00:00, 107325.21it/s]\n"
     ]
    }
   ],
   "source": [
    "d.crop_videos()"
   ]
  },
  {
   "cell_type": "code",
   "execution_count": 4,
   "metadata": {},
   "outputs": [],
   "source": [
    "train_vids = d.load_train()"
   ]
  },
  {
   "cell_type": "code",
   "execution_count": 6,
   "metadata": {},
   "outputs": [],
   "source": [
    "train_all = np.concatenate(train_vids)"
   ]
  },
  {
   "cell_type": "code",
   "execution_count": 7,
   "metadata": {},
   "outputs": [
    {
     "data": {
      "text/plain": [
       "(87896, 224, 224, 3)"
      ]
     },
     "execution_count": 7,
     "metadata": {},
     "output_type": "execute_result"
    }
   ],
   "source": [
    "train_all.shape"
   ]
  },
  {
   "cell_type": "code",
   "execution_count": 10,
   "metadata": {},
   "outputs": [],
   "source": [
    "from cae import cae"
   ]
  },
  {
   "cell_type": "code",
   "execution_count": 13,
   "metadata": {},
   "outputs": [],
   "source": [
    "from sklearn.model_selection import train_test_split\n",
    "\n",
    "train_data, valid_data = train_test_split(train_all, test_size=0.2)"
   ]
  },
  {
   "cell_type": "code",
   "execution_count": 14,
   "metadata": {},
   "outputs": [
    {
     "data": {
      "text/plain": [
       "(70316, 224, 224, 3)"
      ]
     },
     "execution_count": 14,
     "metadata": {},
     "output_type": "execute_result"
    }
   ],
   "source": [
    "train_data.shape"
   ]
  },
  {
   "cell_type": "code",
   "execution_count": 15,
   "metadata": {},
   "outputs": [],
   "source": [
    "model = cae(train_data.shape[1:], 100)"
   ]
  },
  {
   "cell_type": "code",
   "execution_count": null,
   "metadata": {},
   "outputs": [
    {
     "name": "stdout",
     "output_type": "stream",
     "text": [
      "Train on 70316 samples, validate on 17580 samples\n",
      "Epoch 1/100\n",
      "70316/70316 [==============================] - 579s 8ms/step - loss: 811.4653 - val_loss: 399.8458\n",
      "Epoch 2/100\n",
      "70316/70316 [==============================] - 526s 7ms/step - loss: 358.6043 - val_loss: 331.3492\n",
      "Epoch 3/100\n",
      "70316/70316 [==============================] - 529s 8ms/step - loss: 307.9266 - val_loss: 293.7667\n",
      "Epoch 4/100\n",
      "70316/70316 [==============================] - 524s 7ms/step - loss: 281.0026 - val_loss: 277.7526\n",
      "Epoch 5/100\n",
      "70316/70316 [==============================] - 520s 7ms/step - loss: 264.1569 - val_loss: 262.3921\n",
      "Epoch 6/100\n",
      "70316/70316 [==============================] - 523s 7ms/step - loss: 252.4724 - val_loss: 279.3966\n",
      "Epoch 7/100\n",
      "70316/70316 [==============================] - 519s 7ms/step - loss: 242.4935 - val_loss: 250.4354\n",
      "Epoch 8/100\n",
      "70316/70316 [==============================] - 519s 7ms/step - loss: 236.1677 - val_loss: 245.3578\n",
      "Epoch 9/100\n",
      "70316/70316 [==============================] - 520s 7ms/step - loss: 230.8049 - val_loss: 239.5508\n",
      "Epoch 10/100\n",
      "70316/70316 [==============================] - 519s 7ms/step - loss: 225.7516 - val_loss: 237.8754\n",
      "Epoch 11/100\n",
      "70316/70316 [==============================] - 517s 7ms/step - loss: 222.3514 - val_loss: 233.7850\n",
      "Epoch 12/100\n",
      "70316/70316 [==============================] - 519s 7ms/step - loss: 218.1127 - val_loss: 230.9729\n",
      "Epoch 13/100\n",
      "70316/70316 [==============================] - 520s 7ms/step - loss: 215.4999 - val_loss: 231.6197\n",
      "Epoch 14/100\n",
      "70316/70316 [==============================] - 520s 7ms/step - loss: 212.8631 - val_loss: 233.7741\n",
      "Epoch 15/100\n",
      "70316/70316 [==============================] - 520s 7ms/step - loss: 210.8104 - val_loss: 229.4235\n",
      "Epoch 16/100\n",
      "70316/70316 [==============================] - 529s 8ms/step - loss: 208.5010 - val_loss: 227.1282\n",
      "Epoch 17/100\n",
      "70316/70316 [==============================] - 530s 8ms/step - loss: 206.5849 - val_loss: 225.3526\n",
      "Epoch 18/100\n",
      "70316/70316 [==============================] - 519s 7ms/step - loss: 204.6618 - val_loss: 227.5321\n",
      "Epoch 19/100\n",
      "70316/70316 [==============================] - 518s 7ms/step - loss: 203.2947 - val_loss: 222.0056\n",
      "Epoch 20/100\n",
      "70316/70316 [==============================] - 523s 7ms/step - loss: 201.7595 - val_loss: 224.6162\n",
      "Epoch 21/100\n",
      " 6848/70316 [=>............................] - ETA: 6:56 - loss: 197.4979"
     ]
    }
   ],
   "source": [
    "model.fit(train_data, valid_data, epochs=100)"
   ]
  },
  {
   "cell_type": "code",
   "execution_count": null,
   "metadata": {},
   "outputs": [],
   "source": [
    "model.save_weights(path=d.path)"
   ]
  },
  {
   "cell_type": "code",
   "execution_count": 4,
   "metadata": {},
   "outputs": [],
   "source": [
    "import tensorflow as tf"
   ]
  },
  {
   "cell_type": "code",
   "execution_count": 5,
   "metadata": {},
   "outputs": [],
   "source": [
    "cnn = tf.keras.applications.VGG16()"
   ]
  },
  {
   "cell_type": "code",
   "execution_count": 6,
   "metadata": {
    "scrolled": false
   },
   "outputs": [],
   "source": [
    "model = CNNFeatureLSTM(cnn)"
   ]
  },
  {
   "cell_type": "code",
   "execution_count": 7,
   "metadata": {},
   "outputs": [
    {
     "name": "stdout",
     "output_type": "stream",
     "text": [
      "CNN Model: ('keras.models.Model', 'keras.Model')\n",
      "Model: \"sequential\"\n",
      "_________________________________________________________________\n",
      "Layer (type)                 Output Shape              Param #   \n",
      "=================================================================\n",
      "bidirectional (Bidirectional (None, 2000)              16008000  \n",
      "_________________________________________________________________\n",
      "dropout (Dropout)            (None, 2000)              0         \n",
      "_________________________________________________________________\n",
      "dense (Dense)                (None, 64)                128064    \n",
      "_________________________________________________________________\n",
      "dense_1 (Dense)              (None, 1)                 65        \n",
      "=================================================================\n",
      "Total params: 16,136,129\n",
      "Trainable params: 16,136,129\n",
      "Non-trainable params: 0\n",
      "_________________________________________________________________\n"
     ]
    }
   ],
   "source": [
    "model.summary()t"
   ]
  },
  {
   "cell_type": "code",
   "execution_count": 9,
   "metadata": {
    "scrolled": true
   },
   "outputs": [
    {
     "name": "stdout",
     "output_type": "stream",
     "text": [
      "LOADING CNN FEATURES...\n",
      "\n",
      "TRAINING LSTM...\n",
      "Train on 1130 samples, validate on 283 samples\n",
      "Epoch 1/1000\n",
      "1130/1130 [==============================] - 8s 7ms/sample - loss: 7.5706 - accuracy: 0.5035 - val_loss: 7.8671 - val_accuracy: 0.4841\n",
      "Epoch 2/1000\n",
      "1130/1130 [==============================] - 8s 7ms/sample - loss: 7.5706 - accuracy: 0.5035 - val_loss: 7.8671 - val_accuracy: 0.4841\n",
      "Epoch 3/1000\n",
      "1130/1130 [==============================] - 8s 7ms/sample - loss: 7.5706 - accuracy: 0.5035 - val_loss: 7.8671 - val_accuracy: 0.4841\n",
      "Epoch 4/1000\n",
      "1130/1130 [==============================] - 8s 7ms/sample - loss: 7.5706 - accuracy: 0.5035 - val_loss: 7.8671 - val_accuracy: 0.4841\n",
      "Epoch 5/1000\n",
      "1130/1130 [==============================] - 8s 7ms/sample - loss: 7.5706 - accuracy: 0.5035 - val_loss: 7.8671 - val_accuracy: 0.4841\n",
      "Epoch 6/1000\n",
      "1130/1130 [==============================] - 8s 7ms/sample - loss: 7.5706 - accuracy: 0.5035 - val_loss: 7.8671 - val_accuracy: 0.4841\n",
      "Epoch 7/1000\n",
      "1130/1130 [==============================] - 8s 7ms/sample - loss: 7.5706 - accuracy: 0.5035 - val_loss: 7.8671 - val_accuracy: 0.4841\n",
      "Epoch 8/1000\n",
      "1130/1130 [==============================] - 8s 7ms/sample - loss: 7.5706 - accuracy: 0.5035 - val_loss: 7.8671 - val_accuracy: 0.4841\n",
      "Epoch 9/1000\n",
      "1130/1130 [==============================] - 9s 8ms/sample - loss: 7.5706 - accuracy: 0.5035 - val_loss: 7.8671 - val_accuracy: 0.4841\n",
      "Epoch 10/1000\n",
      "1130/1130 [==============================] - 9s 8ms/sample - loss: 7.5706 - accuracy: 0.5035 - val_loss: 7.8671 - val_accuracy: 0.4841\n",
      "Epoch 11/1000\n",
      "1130/1130 [==============================] - 9s 8ms/sample - loss: 7.5706 - accuracy: 0.5035 - val_loss: 7.8671 - val_accuracy: 0.4841\n",
      "Epoch 12/1000\n",
      "1130/1130 [==============================] - 9s 8ms/sample - loss: 7.5706 - accuracy: 0.5035 - val_loss: 7.8671 - val_accuracy: 0.4841\n",
      "Epoch 13/1000\n",
      "1130/1130 [==============================] - 9s 8ms/sample - loss: 7.5706 - accuracy: 0.5035 - val_loss: 7.8671 - val_accuracy: 0.4841\n",
      "Epoch 14/1000\n",
      "1130/1130 [==============================] - 9s 8ms/sample - loss: 7.5706 - accuracy: 0.5035 - val_loss: 7.8671 - val_accuracy: 0.4841\n",
      "Epoch 15/1000\n",
      "1130/1130 [==============================] - 9s 8ms/sample - loss: 7.5706 - accuracy: 0.5035 - val_loss: 7.8671 - val_accuracy: 0.4841\n",
      "Epoch 16/1000\n",
      "1130/1130 [==============================] - 9s 8ms/sample - loss: 7.5706 - accuracy: 0.5035 - val_loss: 7.8671 - val_accuracy: 0.4841\n",
      "Epoch 17/1000\n",
      "1130/1130 [==============================] - 9s 8ms/sample - loss: 7.5706 - accuracy: 0.5035 - val_loss: 7.8671 - val_accuracy: 0.4841\n",
      "Epoch 18/1000\n",
      "1130/1130 [==============================] - 9s 8ms/sample - loss: 7.5706 - accuracy: 0.5035 - val_loss: 7.8671 - val_accuracy: 0.4841\n",
      "Epoch 19/1000\n",
      "1130/1130 [==============================] - 9s 8ms/sample - loss: 7.5706 - accuracy: 0.5035 - val_loss: 7.8671 - val_accuracy: 0.4841\n",
      "Epoch 20/1000\n",
      "1130/1130 [==============================] - 9s 8ms/sample - loss: 7.5706 - accuracy: 0.5035 - val_loss: 7.8671 - val_accuracy: 0.4841\n",
      "Epoch 21/1000\n",
      "1130/1130 [==============================] - 9s 8ms/sample - loss: 7.5706 - accuracy: 0.5035 - val_loss: 7.8671 - val_accuracy: 0.4841\n",
      "Epoch 22/1000\n",
      "1130/1130 [==============================] - 9s 8ms/sample - loss: 7.5706 - accuracy: 0.5035 - val_loss: 7.8671 - val_accuracy: 0.4841\n",
      "Epoch 23/1000\n",
      "1130/1130 [==============================] - 9s 8ms/sample - loss: 7.5706 - accuracy: 0.5035 - val_loss: 7.8671 - val_accuracy: 0.4841\n",
      "Epoch 24/1000\n",
      "1130/1130 [==============================] - 9s 8ms/sample - loss: 7.5706 - accuracy: 0.5035 - val_loss: 7.8671 - val_accuracy: 0.4841\n",
      "Epoch 25/1000\n",
      "1130/1130 [==============================] - 9s 8ms/sample - loss: 7.5706 - accuracy: 0.5035 - val_loss: 7.8671 - val_accuracy: 0.4841\n",
      "Epoch 26/1000\n",
      "1130/1130 [==============================] - 9s 8ms/sample - loss: 7.5706 - accuracy: 0.5035 - val_loss: 7.8671 - val_accuracy: 0.4841\n",
      "Epoch 27/1000\n",
      "1130/1130 [==============================] - 9s 8ms/sample - loss: 7.5706 - accuracy: 0.5035 - val_loss: 7.8671 - val_accuracy: 0.4841\n",
      "Epoch 28/1000\n",
      "1130/1130 [==============================] - 9s 8ms/sample - loss: 7.5706 - accuracy: 0.5035 - val_loss: 7.8671 - val_accuracy: 0.4841\n",
      "Epoch 29/1000\n",
      "1130/1130 [==============================] - 9s 8ms/sample - loss: 7.5706 - accuracy: 0.5035 - val_loss: 7.8671 - val_accuracy: 0.4841\n",
      "Epoch 30/1000\n",
      "1130/1130 [==============================] - 9s 8ms/sample - loss: 7.5706 - accuracy: 0.5035 - val_loss: 7.8671 - val_accuracy: 0.4841\n",
      "Epoch 31/1000\n",
      "1130/1130 [==============================] - 9s 8ms/sample - loss: 7.5706 - accuracy: 0.5035 - val_loss: 7.8671 - val_accuracy: 0.4841\n",
      "Epoch 32/1000\n",
      "1130/1130 [==============================] - 9s 8ms/sample - loss: 7.5706 - accuracy: 0.5035 - val_loss: 7.8671 - val_accuracy: 0.4841\n",
      "Epoch 33/1000\n",
      "1130/1130 [==============================] - 9s 8ms/sample - loss: 7.5706 - accuracy: 0.5035 - val_loss: 7.8671 - val_accuracy: 0.4841\n",
      "Epoch 34/1000\n",
      "1130/1130 [==============================] - 9s 8ms/sample - loss: 7.5706 - accuracy: 0.5035 - val_loss: 7.8671 - val_accuracy: 0.4841\n",
      "Epoch 35/1000\n",
      "1130/1130 [==============================] - 9s 8ms/sample - loss: 7.5706 - accuracy: 0.5035 - val_loss: 7.8671 - val_accuracy: 0.4841\n",
      "Epoch 36/1000\n",
      "1130/1130 [==============================] - 9s 8ms/sample - loss: 7.5706 - accuracy: 0.5035 - val_loss: 7.8671 - val_accuracy: 0.4841\n",
      "Epoch 37/1000\n",
      "1130/1130 [==============================] - 9s 8ms/sample - loss: 7.5706 - accuracy: 0.5035 - val_loss: 7.8671 - val_accuracy: 0.4841\n",
      "Epoch 38/1000\n",
      "1130/1130 [==============================] - 9s 8ms/sample - loss: 7.5706 - accuracy: 0.5035 - val_loss: 7.8671 - val_accuracy: 0.4841\n",
      "Epoch 39/1000\n",
      "1130/1130 [==============================] - 9s 8ms/sample - loss: 7.5706 - accuracy: 0.5035 - val_loss: 7.8671 - val_accuracy: 0.4841\n",
      "Epoch 40/1000\n",
      "1130/1130 [==============================] - 9s 8ms/sample - loss: 7.5706 - accuracy: 0.5035 - val_loss: 7.8671 - val_accuracy: 0.4841\n",
      "Epoch 41/1000\n",
      "1130/1130 [==============================] - 9s 8ms/sample - loss: 7.5706 - accuracy: 0.5035 - val_loss: 7.8671 - val_accuracy: 0.4841\n",
      "Epoch 42/1000\n",
      "1130/1130 [==============================] - 9s 8ms/sample - loss: 7.5706 - accuracy: 0.5035 - val_loss: 7.8671 - val_accuracy: 0.4841\n",
      "Epoch 43/1000\n",
      "1130/1130 [==============================] - 9s 8ms/sample - loss: 7.5706 - accuracy: 0.5035 - val_loss: 7.8671 - val_accuracy: 0.4841\n",
      "Epoch 44/1000\n",
      "1130/1130 [==============================] - 9s 8ms/sample - loss: 7.5706 - accuracy: 0.5035 - val_loss: 7.8671 - val_accuracy: 0.4841\n",
      "Epoch 45/1000\n",
      "1130/1130 [==============================] - 9s 8ms/sample - loss: 7.5706 - accuracy: 0.5035 - val_loss: 7.8671 - val_accuracy: 0.4841\n",
      "Epoch 46/1000\n",
      "1130/1130 [==============================] - 9s 8ms/sample - loss: 7.5706 - accuracy: 0.5035 - val_loss: 7.8671 - val_accuracy: 0.4841\n",
      "Epoch 47/1000\n",
      "1130/1130 [==============================] - 9s 8ms/sample - loss: 7.5706 - accuracy: 0.5035 - val_loss: 7.8671 - val_accuracy: 0.4841\n",
      "Epoch 48/1000\n",
      "1130/1130 [==============================] - 9s 8ms/sample - loss: 7.5706 - accuracy: 0.5035 - val_loss: 7.8671 - val_accuracy: 0.4841\n",
      "Epoch 49/1000\n",
      "1130/1130 [==============================] - 9s 8ms/sample - loss: 7.5706 - accuracy: 0.5035 - val_loss: 7.8671 - val_accuracy: 0.4841\n",
      "Epoch 50/1000\n",
      "1130/1130 [==============================] - 9s 8ms/sample - loss: 7.5706 - accuracy: 0.5035 - val_loss: 7.8671 - val_accuracy: 0.4841\n",
      "Epoch 51/1000\n",
      "1130/1130 [==============================] - 9s 8ms/sample - loss: 7.5706 - accuracy: 0.5035 - val_loss: 7.8671 - val_accuracy: 0.4841\n",
      "Epoch 52/1000\n",
      "1130/1130 [==============================] - 9s 8ms/sample - loss: 7.5706 - accuracy: 0.5035 - val_loss: 7.8671 - val_accuracy: 0.4841\n",
      "Epoch 53/1000\n",
      "1130/1130 [==============================] - 9s 8ms/sample - loss: 7.5706 - accuracy: 0.5035 - val_loss: 7.8671 - val_accuracy: 0.4841\n",
      "Epoch 54/1000\n",
      "1130/1130 [==============================] - 9s 8ms/sample - loss: 7.5706 - accuracy: 0.5035 - val_loss: 7.8671 - val_accuracy: 0.4841\n",
      "Epoch 55/1000\n"
     ]
    },
    {
     "name": "stdout",
     "output_type": "stream",
     "text": [
      "1130/1130 [==============================] - 9s 8ms/sample - loss: 7.5706 - accuracy: 0.5035 - val_loss: 7.8671 - val_accuracy: 0.4841\n",
      "Epoch 56/1000\n",
      "1130/1130 [==============================] - 9s 8ms/sample - loss: 7.5706 - accuracy: 0.5035 - val_loss: 7.8671 - val_accuracy: 0.4841\n",
      "Epoch 57/1000\n",
      "1130/1130 [==============================] - 9s 8ms/sample - loss: 7.5706 - accuracy: 0.5035 - val_loss: 7.8671 - val_accuracy: 0.4841\n",
      "Epoch 58/1000\n",
      "1130/1130 [==============================] - 9s 8ms/sample - loss: 7.5706 - accuracy: 0.5035 - val_loss: 7.8671 - val_accuracy: 0.4841\n",
      "Epoch 59/1000\n",
      "1130/1130 [==============================] - 9s 8ms/sample - loss: 7.5706 - accuracy: 0.5035 - val_loss: 7.8671 - val_accuracy: 0.4841\n",
      "Epoch 60/1000\n",
      "1130/1130 [==============================] - 9s 8ms/sample - loss: 7.5706 - accuracy: 0.5035 - val_loss: 7.8671 - val_accuracy: 0.4841\n",
      "Epoch 61/1000\n",
      "1130/1130 [==============================] - 9s 8ms/sample - loss: 7.5706 - accuracy: 0.5035 - val_loss: 7.8671 - val_accuracy: 0.4841\n",
      "Epoch 62/1000\n",
      "1130/1130 [==============================] - 9s 8ms/sample - loss: 7.5706 - accuracy: 0.5035 - val_loss: 7.8671 - val_accuracy: 0.4841\n",
      "Epoch 63/1000\n",
      "1130/1130 [==============================] - 9s 8ms/sample - loss: 7.5706 - accuracy: 0.5035 - val_loss: 7.8671 - val_accuracy: 0.4841\n",
      "Epoch 64/1000\n",
      "1130/1130 [==============================] - 9s 8ms/sample - loss: 7.5706 - accuracy: 0.5035 - val_loss: 7.8671 - val_accuracy: 0.4841\n",
      "Epoch 65/1000\n",
      "1130/1130 [==============================] - 9s 8ms/sample - loss: 7.5706 - accuracy: 0.5035 - val_loss: 7.8671 - val_accuracy: 0.4841\n",
      "Epoch 66/1000\n",
      "1130/1130 [==============================] - 9s 8ms/sample - loss: 7.5706 - accuracy: 0.5035 - val_loss: 7.8671 - val_accuracy: 0.4841\n",
      "Epoch 67/1000\n",
      "1130/1130 [==============================] - 9s 8ms/sample - loss: 7.5706 - accuracy: 0.5035 - val_loss: 7.8671 - val_accuracy: 0.4841\n",
      "Epoch 68/1000\n",
      "1130/1130 [==============================] - 9s 8ms/sample - loss: 7.5706 - accuracy: 0.5035 - val_loss: 7.8671 - val_accuracy: 0.4841\n",
      "Epoch 69/1000\n",
      "1130/1130 [==============================] - 9s 8ms/sample - loss: 7.5706 - accuracy: 0.5035 - val_loss: 7.8671 - val_accuracy: 0.4841\n",
      "Epoch 70/1000\n",
      "1130/1130 [==============================] - 9s 8ms/sample - loss: 7.5706 - accuracy: 0.5035 - val_loss: 7.8671 - val_accuracy: 0.4841\n",
      "Epoch 71/1000\n",
      "1130/1130 [==============================] - 9s 8ms/sample - loss: 7.5706 - accuracy: 0.5035 - val_loss: 7.8671 - val_accuracy: 0.4841\n",
      "Epoch 72/1000\n",
      "1130/1130 [==============================] - 9s 8ms/sample - loss: 7.5706 - accuracy: 0.5035 - val_loss: 7.8671 - val_accuracy: 0.4841\n",
      "Epoch 73/1000\n",
      "1130/1130 [==============================] - 9s 8ms/sample - loss: 7.5706 - accuracy: 0.5035 - val_loss: 7.8671 - val_accuracy: 0.4841\n",
      "Epoch 74/1000\n",
      "1130/1130 [==============================] - 9s 8ms/sample - loss: 7.5706 - accuracy: 0.5035 - val_loss: 7.8671 - val_accuracy: 0.4841\n",
      "Epoch 75/1000\n",
      "1130/1130 [==============================] - 9s 8ms/sample - loss: 7.5706 - accuracy: 0.5035 - val_loss: 7.8671 - val_accuracy: 0.4841\n",
      "Epoch 76/1000\n",
      "1130/1130 [==============================] - 9s 8ms/sample - loss: 7.5706 - accuracy: 0.5035 - val_loss: 7.8671 - val_accuracy: 0.4841\n",
      "Epoch 77/1000\n",
      "1130/1130 [==============================] - 9s 8ms/sample - loss: 7.5706 - accuracy: 0.5035 - val_loss: 7.8671 - val_accuracy: 0.4841\n",
      "Epoch 78/1000\n",
      "1130/1130 [==============================] - 9s 8ms/sample - loss: 7.5706 - accuracy: 0.5035 - val_loss: 7.8671 - val_accuracy: 0.4841\n",
      "Epoch 79/1000\n",
      " 768/1130 [===================>..........] - ETA: 2s - loss: 7.6039 - accuracy: 0.5014"
     ]
    },
    {
     "ename": "KeyboardInterrupt",
     "evalue": "",
     "output_type": "error",
     "traceback": [
      "\u001b[0;31m---------------------------------------------------------------------------\u001b[0m",
      "\u001b[0;31mKeyboardInterrupt\u001b[0m                         Traceback (most recent call last)",
      "\u001b[0;32m<ipython-input-9-b7b92990469d>\u001b[0m in \u001b[0;36m<module>\u001b[0;34m\u001b[0m\n\u001b[0;32m----> 1\u001b[0;31m \u001b[0mmodel\u001b[0m\u001b[0;34m.\u001b[0m\u001b[0mfit\u001b[0m\u001b[0;34m(\u001b[0m\u001b[0md\u001b[0m\u001b[0;34m,\u001b[0m \u001b[0mepochs\u001b[0m\u001b[0;34m=\u001b[0m\u001b[0;36m1000\u001b[0m\u001b[0;34m)\u001b[0m\u001b[0;34m\u001b[0m\u001b[0;34m\u001b[0m\u001b[0m\n\u001b[0m",
      "\u001b[0;32m/ssd_icybox2_1TB/jason/clog-loss/networks.py\u001b[0m in \u001b[0;36mfit\u001b[0;34m(self, clogData, epochs, validate, **kwargs)\u001b[0m\n\u001b[1;32m     88\u001b[0m                 \u001b[0mprint\u001b[0m\u001b[0;34m(\u001b[0m\u001b[0;34m'TRAINING LSTM...'\u001b[0m\u001b[0;34m)\u001b[0m\u001b[0;34m\u001b[0m\u001b[0;34m\u001b[0m\u001b[0m\n\u001b[1;32m     89\u001b[0m \t\tself.model.fit(train_data, train_labels, epochs=epochs, \n\u001b[0;32m---> 90\u001b[0;31m \t\t\t           validation_split=validate, **kwargs)\n\u001b[0m\u001b[1;32m     91\u001b[0m \u001b[0;34m\u001b[0m\u001b[0m\n\u001b[1;32m     92\u001b[0m \u001b[0;34m\u001b[0m\u001b[0m\n",
      "\u001b[0;32m/ssd_icybox2_1TB/jason/miniconda3/envs/clog/lib/python3.7/site-packages/tensorflow_core/python/keras/engine/training.py\u001b[0m in \u001b[0;36mfit\u001b[0;34m(self, x, y, batch_size, epochs, verbose, callbacks, validation_split, validation_data, shuffle, class_weight, sample_weight, initial_epoch, steps_per_epoch, validation_steps, validation_freq, max_queue_size, workers, use_multiprocessing, **kwargs)\u001b[0m\n\u001b[1;32m    817\u001b[0m         \u001b[0mmax_queue_size\u001b[0m\u001b[0;34m=\u001b[0m\u001b[0mmax_queue_size\u001b[0m\u001b[0;34m,\u001b[0m\u001b[0;34m\u001b[0m\u001b[0;34m\u001b[0m\u001b[0m\n\u001b[1;32m    818\u001b[0m         \u001b[0mworkers\u001b[0m\u001b[0;34m=\u001b[0m\u001b[0mworkers\u001b[0m\u001b[0;34m,\u001b[0m\u001b[0;34m\u001b[0m\u001b[0;34m\u001b[0m\u001b[0m\n\u001b[0;32m--> 819\u001b[0;31m         use_multiprocessing=use_multiprocessing)\n\u001b[0m\u001b[1;32m    820\u001b[0m \u001b[0;34m\u001b[0m\u001b[0m\n\u001b[1;32m    821\u001b[0m   def evaluate(self,\n",
      "\u001b[0;32m/ssd_icybox2_1TB/jason/miniconda3/envs/clog/lib/python3.7/site-packages/tensorflow_core/python/keras/engine/training_v2.py\u001b[0m in \u001b[0;36mfit\u001b[0;34m(self, model, x, y, batch_size, epochs, verbose, callbacks, validation_split, validation_data, shuffle, class_weight, sample_weight, initial_epoch, steps_per_epoch, validation_steps, validation_freq, max_queue_size, workers, use_multiprocessing, **kwargs)\u001b[0m\n\u001b[1;32m    340\u001b[0m                 \u001b[0mmode\u001b[0m\u001b[0;34m=\u001b[0m\u001b[0mModeKeys\u001b[0m\u001b[0;34m.\u001b[0m\u001b[0mTRAIN\u001b[0m\u001b[0;34m,\u001b[0m\u001b[0;34m\u001b[0m\u001b[0;34m\u001b[0m\u001b[0m\n\u001b[1;32m    341\u001b[0m                 \u001b[0mtraining_context\u001b[0m\u001b[0;34m=\u001b[0m\u001b[0mtraining_context\u001b[0m\u001b[0;34m,\u001b[0m\u001b[0;34m\u001b[0m\u001b[0;34m\u001b[0m\u001b[0m\n\u001b[0;32m--> 342\u001b[0;31m                 total_epochs=epochs)\n\u001b[0m\u001b[1;32m    343\u001b[0m             \u001b[0mcbks\u001b[0m\u001b[0;34m.\u001b[0m\u001b[0mmake_logs\u001b[0m\u001b[0;34m(\u001b[0m\u001b[0mmodel\u001b[0m\u001b[0;34m,\u001b[0m \u001b[0mepoch_logs\u001b[0m\u001b[0;34m,\u001b[0m \u001b[0mtraining_result\u001b[0m\u001b[0;34m,\u001b[0m \u001b[0mModeKeys\u001b[0m\u001b[0;34m.\u001b[0m\u001b[0mTRAIN\u001b[0m\u001b[0;34m)\u001b[0m\u001b[0;34m\u001b[0m\u001b[0;34m\u001b[0m\u001b[0m\n\u001b[1;32m    344\u001b[0m \u001b[0;34m\u001b[0m\u001b[0m\n",
      "\u001b[0;32m/ssd_icybox2_1TB/jason/miniconda3/envs/clog/lib/python3.7/site-packages/tensorflow_core/python/keras/engine/training_v2.py\u001b[0m in \u001b[0;36mrun_one_epoch\u001b[0;34m(model, iterator, execution_function, dataset_size, batch_size, strategy, steps_per_epoch, num_samples, mode, training_context, total_epochs)\u001b[0m\n\u001b[1;32m    126\u001b[0m         step=step, mode=mode, size=current_batch_size) as batch_logs:\n\u001b[1;32m    127\u001b[0m       \u001b[0;32mtry\u001b[0m\u001b[0;34m:\u001b[0m\u001b[0;34m\u001b[0m\u001b[0;34m\u001b[0m\u001b[0m\n\u001b[0;32m--> 128\u001b[0;31m         \u001b[0mbatch_outs\u001b[0m \u001b[0;34m=\u001b[0m \u001b[0mexecution_function\u001b[0m\u001b[0;34m(\u001b[0m\u001b[0miterator\u001b[0m\u001b[0;34m)\u001b[0m\u001b[0;34m\u001b[0m\u001b[0;34m\u001b[0m\u001b[0m\n\u001b[0m\u001b[1;32m    129\u001b[0m       \u001b[0;32mexcept\u001b[0m \u001b[0;34m(\u001b[0m\u001b[0mStopIteration\u001b[0m\u001b[0;34m,\u001b[0m \u001b[0merrors\u001b[0m\u001b[0;34m.\u001b[0m\u001b[0mOutOfRangeError\u001b[0m\u001b[0;34m)\u001b[0m\u001b[0;34m:\u001b[0m\u001b[0;34m\u001b[0m\u001b[0;34m\u001b[0m\u001b[0m\n\u001b[1;32m    130\u001b[0m         \u001b[0;31m# TODO(kaftan): File bug about tf function and errors.OutOfRangeError?\u001b[0m\u001b[0;34m\u001b[0m\u001b[0;34m\u001b[0m\u001b[0;34m\u001b[0m\u001b[0m\n",
      "\u001b[0;32m/ssd_icybox2_1TB/jason/miniconda3/envs/clog/lib/python3.7/site-packages/tensorflow_core/python/keras/engine/training_v2_utils.py\u001b[0m in \u001b[0;36mexecution_function\u001b[0;34m(input_fn)\u001b[0m\n\u001b[1;32m     96\u001b[0m     \u001b[0;31m# `numpy` translates Tensors to values in Eager mode.\u001b[0m\u001b[0;34m\u001b[0m\u001b[0;34m\u001b[0m\u001b[0;34m\u001b[0m\u001b[0m\n\u001b[1;32m     97\u001b[0m     return nest.map_structure(_non_none_constant_value,\n\u001b[0;32m---> 98\u001b[0;31m                               distributed_function(input_fn))\n\u001b[0m\u001b[1;32m     99\u001b[0m \u001b[0;34m\u001b[0m\u001b[0m\n\u001b[1;32m    100\u001b[0m   \u001b[0;32mreturn\u001b[0m \u001b[0mexecution_function\u001b[0m\u001b[0;34m\u001b[0m\u001b[0;34m\u001b[0m\u001b[0m\n",
      "\u001b[0;32m/ssd_icybox2_1TB/jason/miniconda3/envs/clog/lib/python3.7/site-packages/tensorflow_core/python/eager/def_function.py\u001b[0m in \u001b[0;36m__call__\u001b[0;34m(self, *args, **kwds)\u001b[0m\n\u001b[1;32m    566\u001b[0m         \u001b[0mxla_context\u001b[0m\u001b[0;34m.\u001b[0m\u001b[0mExit\u001b[0m\u001b[0;34m(\u001b[0m\u001b[0;34m)\u001b[0m\u001b[0;34m\u001b[0m\u001b[0;34m\u001b[0m\u001b[0m\n\u001b[1;32m    567\u001b[0m     \u001b[0;32melse\u001b[0m\u001b[0;34m:\u001b[0m\u001b[0;34m\u001b[0m\u001b[0;34m\u001b[0m\u001b[0m\n\u001b[0;32m--> 568\u001b[0;31m       \u001b[0mresult\u001b[0m \u001b[0;34m=\u001b[0m \u001b[0mself\u001b[0m\u001b[0;34m.\u001b[0m\u001b[0m_call\u001b[0m\u001b[0;34m(\u001b[0m\u001b[0;34m*\u001b[0m\u001b[0margs\u001b[0m\u001b[0;34m,\u001b[0m \u001b[0;34m**\u001b[0m\u001b[0mkwds\u001b[0m\u001b[0;34m)\u001b[0m\u001b[0;34m\u001b[0m\u001b[0;34m\u001b[0m\u001b[0m\n\u001b[0m\u001b[1;32m    569\u001b[0m \u001b[0;34m\u001b[0m\u001b[0m\n\u001b[1;32m    570\u001b[0m     \u001b[0;32mif\u001b[0m \u001b[0mtracing_count\u001b[0m \u001b[0;34m==\u001b[0m \u001b[0mself\u001b[0m\u001b[0;34m.\u001b[0m\u001b[0m_get_tracing_count\u001b[0m\u001b[0;34m(\u001b[0m\u001b[0;34m)\u001b[0m\u001b[0;34m:\u001b[0m\u001b[0;34m\u001b[0m\u001b[0;34m\u001b[0m\u001b[0m\n",
      "\u001b[0;32m/ssd_icybox2_1TB/jason/miniconda3/envs/clog/lib/python3.7/site-packages/tensorflow_core/python/eager/def_function.py\u001b[0m in \u001b[0;36m_call\u001b[0;34m(self, *args, **kwds)\u001b[0m\n\u001b[1;32m    597\u001b[0m       \u001b[0;31m# In this case we have created variables on the first call, so we run the\u001b[0m\u001b[0;34m\u001b[0m\u001b[0;34m\u001b[0m\u001b[0;34m\u001b[0m\u001b[0m\n\u001b[1;32m    598\u001b[0m       \u001b[0;31m# defunned version which is guaranteed to never create variables.\u001b[0m\u001b[0;34m\u001b[0m\u001b[0;34m\u001b[0m\u001b[0;34m\u001b[0m\u001b[0m\n\u001b[0;32m--> 599\u001b[0;31m       \u001b[0;32mreturn\u001b[0m \u001b[0mself\u001b[0m\u001b[0;34m.\u001b[0m\u001b[0m_stateless_fn\u001b[0m\u001b[0;34m(\u001b[0m\u001b[0;34m*\u001b[0m\u001b[0margs\u001b[0m\u001b[0;34m,\u001b[0m \u001b[0;34m**\u001b[0m\u001b[0mkwds\u001b[0m\u001b[0;34m)\u001b[0m  \u001b[0;31m# pylint: disable=not-callable\u001b[0m\u001b[0;34m\u001b[0m\u001b[0;34m\u001b[0m\u001b[0m\n\u001b[0m\u001b[1;32m    600\u001b[0m     \u001b[0;32melif\u001b[0m \u001b[0mself\u001b[0m\u001b[0;34m.\u001b[0m\u001b[0m_stateful_fn\u001b[0m \u001b[0;32mis\u001b[0m \u001b[0;32mnot\u001b[0m \u001b[0;32mNone\u001b[0m\u001b[0;34m:\u001b[0m\u001b[0;34m\u001b[0m\u001b[0;34m\u001b[0m\u001b[0m\n\u001b[1;32m    601\u001b[0m       \u001b[0;31m# Release the lock early so that multiple threads can perform the call\u001b[0m\u001b[0;34m\u001b[0m\u001b[0;34m\u001b[0m\u001b[0;34m\u001b[0m\u001b[0m\n",
      "\u001b[0;32m/ssd_icybox2_1TB/jason/miniconda3/envs/clog/lib/python3.7/site-packages/tensorflow_core/python/eager/function.py\u001b[0m in \u001b[0;36m__call__\u001b[0;34m(self, *args, **kwargs)\u001b[0m\n\u001b[1;32m   2361\u001b[0m     \u001b[0;32mwith\u001b[0m \u001b[0mself\u001b[0m\u001b[0;34m.\u001b[0m\u001b[0m_lock\u001b[0m\u001b[0;34m:\u001b[0m\u001b[0;34m\u001b[0m\u001b[0;34m\u001b[0m\u001b[0m\n\u001b[1;32m   2362\u001b[0m       \u001b[0mgraph_function\u001b[0m\u001b[0;34m,\u001b[0m \u001b[0margs\u001b[0m\u001b[0;34m,\u001b[0m \u001b[0mkwargs\u001b[0m \u001b[0;34m=\u001b[0m \u001b[0mself\u001b[0m\u001b[0;34m.\u001b[0m\u001b[0m_maybe_define_function\u001b[0m\u001b[0;34m(\u001b[0m\u001b[0margs\u001b[0m\u001b[0;34m,\u001b[0m \u001b[0mkwargs\u001b[0m\u001b[0;34m)\u001b[0m\u001b[0;34m\u001b[0m\u001b[0;34m\u001b[0m\u001b[0m\n\u001b[0;32m-> 2363\u001b[0;31m     \u001b[0;32mreturn\u001b[0m \u001b[0mgraph_function\u001b[0m\u001b[0;34m.\u001b[0m\u001b[0m_filtered_call\u001b[0m\u001b[0;34m(\u001b[0m\u001b[0margs\u001b[0m\u001b[0;34m,\u001b[0m \u001b[0mkwargs\u001b[0m\u001b[0;34m)\u001b[0m  \u001b[0;31m# pylint: disable=protected-access\u001b[0m\u001b[0;34m\u001b[0m\u001b[0;34m\u001b[0m\u001b[0m\n\u001b[0m\u001b[1;32m   2364\u001b[0m \u001b[0;34m\u001b[0m\u001b[0m\n\u001b[1;32m   2365\u001b[0m   \u001b[0;34m@\u001b[0m\u001b[0mproperty\u001b[0m\u001b[0;34m\u001b[0m\u001b[0;34m\u001b[0m\u001b[0m\n",
      "\u001b[0;32m/ssd_icybox2_1TB/jason/miniconda3/envs/clog/lib/python3.7/site-packages/tensorflow_core/python/eager/function.py\u001b[0m in \u001b[0;36m_filtered_call\u001b[0;34m(self, args, kwargs)\u001b[0m\n\u001b[1;32m   1609\u001b[0m          if isinstance(t, (ops.Tensor,\n\u001b[1;32m   1610\u001b[0m                            resource_variable_ops.BaseResourceVariable))),\n\u001b[0;32m-> 1611\u001b[0;31m         self.captured_inputs)\n\u001b[0m\u001b[1;32m   1612\u001b[0m \u001b[0;34m\u001b[0m\u001b[0m\n\u001b[1;32m   1613\u001b[0m   \u001b[0;32mdef\u001b[0m \u001b[0m_call_flat\u001b[0m\u001b[0;34m(\u001b[0m\u001b[0mself\u001b[0m\u001b[0;34m,\u001b[0m \u001b[0margs\u001b[0m\u001b[0;34m,\u001b[0m \u001b[0mcaptured_inputs\u001b[0m\u001b[0;34m,\u001b[0m \u001b[0mcancellation_manager\u001b[0m\u001b[0;34m=\u001b[0m\u001b[0;32mNone\u001b[0m\u001b[0;34m)\u001b[0m\u001b[0;34m:\u001b[0m\u001b[0;34m\u001b[0m\u001b[0;34m\u001b[0m\u001b[0m\n",
      "\u001b[0;32m/ssd_icybox2_1TB/jason/miniconda3/envs/clog/lib/python3.7/site-packages/tensorflow_core/python/eager/function.py\u001b[0m in \u001b[0;36m_call_flat\u001b[0;34m(self, args, captured_inputs, cancellation_manager)\u001b[0m\n\u001b[1;32m   1690\u001b[0m       \u001b[0;31m# No tape is watching; skip to running the function.\u001b[0m\u001b[0;34m\u001b[0m\u001b[0;34m\u001b[0m\u001b[0;34m\u001b[0m\u001b[0m\n\u001b[1;32m   1691\u001b[0m       return self._build_call_outputs(self._inference_function.call(\n\u001b[0;32m-> 1692\u001b[0;31m           ctx, args, cancellation_manager=cancellation_manager))\n\u001b[0m\u001b[1;32m   1693\u001b[0m     forward_backward = self._select_forward_and_backward_functions(\n\u001b[1;32m   1694\u001b[0m         \u001b[0margs\u001b[0m\u001b[0;34m,\u001b[0m\u001b[0;34m\u001b[0m\u001b[0;34m\u001b[0m\u001b[0m\n",
      "\u001b[0;32m/ssd_icybox2_1TB/jason/miniconda3/envs/clog/lib/python3.7/site-packages/tensorflow_core/python/eager/function.py\u001b[0m in \u001b[0;36mcall\u001b[0;34m(self, ctx, args, cancellation_manager)\u001b[0m\n\u001b[1;32m    543\u001b[0m               \u001b[0minputs\u001b[0m\u001b[0;34m=\u001b[0m\u001b[0margs\u001b[0m\u001b[0;34m,\u001b[0m\u001b[0;34m\u001b[0m\u001b[0;34m\u001b[0m\u001b[0m\n\u001b[1;32m    544\u001b[0m               \u001b[0mattrs\u001b[0m\u001b[0;34m=\u001b[0m\u001b[0;34m(\u001b[0m\u001b[0;34m\"executor_type\"\u001b[0m\u001b[0;34m,\u001b[0m \u001b[0mexecutor_type\u001b[0m\u001b[0;34m,\u001b[0m \u001b[0;34m\"config_proto\"\u001b[0m\u001b[0;34m,\u001b[0m \u001b[0mconfig\u001b[0m\u001b[0;34m)\u001b[0m\u001b[0;34m,\u001b[0m\u001b[0;34m\u001b[0m\u001b[0;34m\u001b[0m\u001b[0m\n\u001b[0;32m--> 545\u001b[0;31m               ctx=ctx)\n\u001b[0m\u001b[1;32m    546\u001b[0m         \u001b[0;32melse\u001b[0m\u001b[0;34m:\u001b[0m\u001b[0;34m\u001b[0m\u001b[0;34m\u001b[0m\u001b[0m\n\u001b[1;32m    547\u001b[0m           outputs = execute.execute_with_cancellation(\n",
      "\u001b[0;32m/ssd_icybox2_1TB/jason/miniconda3/envs/clog/lib/python3.7/site-packages/tensorflow_core/python/eager/execute.py\u001b[0m in \u001b[0;36mquick_execute\u001b[0;34m(op_name, num_outputs, inputs, attrs, ctx, name)\u001b[0m\n\u001b[1;32m     59\u001b[0m     tensors = pywrap_tensorflow.TFE_Py_Execute(ctx._handle, device_name,\n\u001b[1;32m     60\u001b[0m                                                \u001b[0mop_name\u001b[0m\u001b[0;34m,\u001b[0m \u001b[0minputs\u001b[0m\u001b[0;34m,\u001b[0m \u001b[0mattrs\u001b[0m\u001b[0;34m,\u001b[0m\u001b[0;34m\u001b[0m\u001b[0;34m\u001b[0m\u001b[0m\n\u001b[0;32m---> 61\u001b[0;31m                                                num_outputs)\n\u001b[0m\u001b[1;32m     62\u001b[0m   \u001b[0;32mexcept\u001b[0m \u001b[0mcore\u001b[0m\u001b[0;34m.\u001b[0m\u001b[0m_NotOkStatusException\u001b[0m \u001b[0;32mas\u001b[0m \u001b[0me\u001b[0m\u001b[0;34m:\u001b[0m\u001b[0;34m\u001b[0m\u001b[0;34m\u001b[0m\u001b[0m\n\u001b[1;32m     63\u001b[0m     \u001b[0;32mif\u001b[0m \u001b[0mname\u001b[0m \u001b[0;32mis\u001b[0m \u001b[0;32mnot\u001b[0m \u001b[0;32mNone\u001b[0m\u001b[0;34m:\u001b[0m\u001b[0;34m\u001b[0m\u001b[0;34m\u001b[0m\u001b[0m\n",
      "\u001b[0;31mKeyboardInterrupt\u001b[0m: "
     ]
    }
   ],
   "source": [
    "model.fit(d, epochs=1000)"
   ]
  },
  {
   "cell_type": "code",
   "execution_count": 10,
   "metadata": {},
   "outputs": [],
   "source": [
    "train_data = np.load('/ssd_icybox2_1TB/jason/clog-loss-data/nano/keras_Model_features.npy')"
   ]
  },
  {
   "cell_type": "code",
   "execution_count": 11,
   "metadata": {},
   "outputs": [
    {
     "data": {
      "text/plain": [
       "(99, 100, 1000)"
      ]
     },
     "execution_count": 11,
     "metadata": {},
     "output_type": "execute_result"
    }
   ],
   "source": [
    "train_data.shape"
   ]
  },
  {
   "cell_type": "code",
   "execution_count": null,
   "metadata": {},
   "outputs": [],
   "source": [
    "# load videos\n",
    "\n",
    "\n"
   ]
  }
 ],
 "metadata": {
  "kernelspec": {
   "display_name": "Python [conda env:clog] *",
   "language": "python",
   "name": "conda-env-clog-py"
  },
  "language_info": {
   "codemirror_mode": {
    "name": "ipython",
    "version": 3
   },
   "file_extension": ".py",
   "mimetype": "text/x-python",
   "name": "python",
   "nbconvert_exporter": "python",
   "pygments_lexer": "ipython3",
   "version": "3.7.7"
  }
 },
 "nbformat": 4,
 "nbformat_minor": 4
}
