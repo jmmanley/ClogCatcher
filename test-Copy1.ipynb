{
 "cells": [
  {
   "cell_type": "code",
   "execution_count": 1,
   "metadata": {},
   "outputs": [],
   "source": [
    "import data\n",
    "import os, glob\n",
    "import matplotlib.pyplot as plt\n",
    "import cv2\n",
    "import numpy as np\n",
    "\n",
    "from networks import CNNFeatureLSTM"
   ]
  },
  {
   "cell_type": "code",
   "execution_count": 2,
   "metadata": {},
   "outputs": [],
   "source": [
    "os.environ[\"CUDA_VISIBLE_DEVICES\"]=\"1\""
   ]
  },
  {
   "cell_type": "code",
   "execution_count": 3,
   "metadata": {},
   "outputs": [],
   "source": [
    "d = data.ClogData('/ssd_icybox2_1TB/jason/clog-loss-data/', size='nano')"
   ]
  },
  {
   "cell_type": "code",
   "execution_count": 4,
   "metadata": {},
   "outputs": [
    {
     "name": "stdout",
     "output_type": "stream",
     "text": [
      "CROPPING ALL VIDEOS TO SIZE  (224, 224) ...\n",
      "100%|██████████| 2826/2826 [00:00<00:00, 158642.10it/s]\n"
     ]
    }
   ],
   "source": [
    "d.crop_videos()"
   ]
  },
  {
   "cell_type": "code",
   "execution_count": 5,
   "metadata": {},
   "outputs": [],
   "source": [
    "import tensorflow as tf"
   ]
  },
  {
   "cell_type": "code",
   "execution_count": 6,
   "metadata": {},
   "outputs": [],
   "source": [
    "cnn = tf.keras.applications.VGG16()"
   ]
  },
  {
   "cell_type": "code",
   "execution_count": 8,
   "metadata": {
    "scrolled": false
   },
   "outputs": [],
   "source": [
    "model = CNNFeatureLSTM(cnn)"
   ]
  },
  {
   "cell_type": "code",
   "execution_count": 9,
   "metadata": {
    "scrolled": true
   },
   "outputs": [
    {
     "name": "stdout",
     "output_type": "stream",
     "text": [
      "CNN Model: vgg16\n",
      "Model: \"sequential_1\"\n",
      "_________________________________________________________________\n",
      "Layer (type)                 Output Shape              Param #   \n",
      "=================================================================\n",
      "bidirectional_1 (Bidirection (None, 128)               545280    \n",
      "_________________________________________________________________\n",
      "dropout_1 (Dropout)          (None, 128)               0         \n",
      "_________________________________________________________________\n",
      "dense_2 (Dense)              (None, 64)                8256      \n",
      "_________________________________________________________________\n",
      "dense_3 (Dense)              (None, 1)                 65        \n",
      "=================================================================\n",
      "Total params: 553,601\n",
      "Trainable params: 553,601\n",
      "Non-trainable params: 0\n",
      "_________________________________________________________________\n"
     ]
    }
   ],
   "source": [
    "model.summary()"
   ]
  },
  {
   "cell_type": "code",
   "execution_count": 10,
   "metadata": {
    "scrolled": true
   },
   "outputs": [
    {
     "name": "stdout",
     "output_type": "stream",
     "text": [
      "LOADING CNN FEATURES...\n",
      "\n",
      "TRAINING CLASSIFICATION MODEL...\n",
      "Train on 1130 samples, validate on 283 samples\n",
      "Epoch 1/30\n",
      "1130/1130 [==============================] - 6s 6ms/sample - loss: 0.6884 - accuracy: 0.5345 - val_loss: 0.6751 - val_accuracy: 0.5866\n",
      "Epoch 2/30\n",
      "1130/1130 [==============================] - 2s 2ms/sample - loss: 0.6269 - accuracy: 0.6354 - val_loss: 0.6538 - val_accuracy: 0.5936\n",
      "Epoch 3/30\n",
      "1130/1130 [==============================] - 2s 2ms/sample - loss: 0.5758 - accuracy: 0.6876 - val_loss: 0.6735 - val_accuracy: 0.5901\n",
      "Epoch 4/30\n",
      "1130/1130 [==============================] - 2s 2ms/sample - loss: 0.5266 - accuracy: 0.7239 - val_loss: 0.6583 - val_accuracy: 0.6466\n",
      "Epoch 5/30\n",
      "1130/1130 [==============================] - 2s 2ms/sample - loss: 0.4672 - accuracy: 0.7690 - val_loss: 0.6985 - val_accuracy: 0.6113\n",
      "Epoch 6/30\n",
      "1130/1130 [==============================] - 2s 2ms/sample - loss: 0.4397 - accuracy: 0.7708 - val_loss: 0.7066 - val_accuracy: 0.6113\n",
      "Epoch 7/30\n",
      "1130/1130 [==============================] - 2s 2ms/sample - loss: 0.3722 - accuracy: 0.8177 - val_loss: 0.7518 - val_accuracy: 0.6148\n",
      "Epoch 8/30\n",
      "1130/1130 [==============================] - 2s 2ms/sample - loss: 0.3460 - accuracy: 0.8487 - val_loss: 0.7360 - val_accuracy: 0.6290\n",
      "Epoch 9/30\n",
      "1130/1130 [==============================] - 2s 2ms/sample - loss: 0.3137 - accuracy: 0.8531 - val_loss: 0.8416 - val_accuracy: 0.6396\n",
      "Epoch 10/30\n",
      "1130/1130 [==============================] - 2s 2ms/sample - loss: 0.2927 - accuracy: 0.8611 - val_loss: 0.8176 - val_accuracy: 0.6537\n",
      "Epoch 11/30\n",
      "1130/1130 [==============================] - 2s 2ms/sample - loss: 0.2499 - accuracy: 0.8858 - val_loss: 0.7931 - val_accuracy: 0.6219\n",
      "Epoch 12/30\n",
      "1130/1130 [==============================] - 2s 2ms/sample - loss: 0.1921 - accuracy: 0.9124 - val_loss: 0.9539 - val_accuracy: 0.6254\n",
      "Epoch 13/30\n",
      "1130/1130 [==============================] - 2s 2ms/sample - loss: 0.1657 - accuracy: 0.9257 - val_loss: 1.0200 - val_accuracy: 0.6148\n",
      "Epoch 14/30\n",
      "1130/1130 [==============================] - 2s 2ms/sample - loss: 0.1611 - accuracy: 0.9283 - val_loss: 1.0564 - val_accuracy: 0.6290\n",
      "Epoch 15/30\n",
      "1130/1130 [==============================] - 2s 2ms/sample - loss: 0.1484 - accuracy: 0.9336 - val_loss: 1.1422 - val_accuracy: 0.6678\n",
      "Epoch 16/30\n",
      "1130/1130 [==============================] - 2s 2ms/sample - loss: 0.1239 - accuracy: 0.9451 - val_loss: 1.1583 - val_accuracy: 0.6254\n",
      "Epoch 17/30\n",
      "1130/1130 [==============================] - 2s 2ms/sample - loss: 0.1298 - accuracy: 0.9381 - val_loss: 1.2250 - val_accuracy: 0.6360\n",
      "Epoch 18/30\n",
      "1130/1130 [==============================] - 2s 2ms/sample - loss: 0.1322 - accuracy: 0.9451 - val_loss: 1.2198 - val_accuracy: 0.6466\n",
      "Epoch 19/30\n",
      "1130/1130 [==============================] - 2s 2ms/sample - loss: 0.1518 - accuracy: 0.9274 - val_loss: 1.2256 - val_accuracy: 0.6396\n",
      "Epoch 20/30\n",
      "1130/1130 [==============================] - 2s 2ms/sample - loss: 0.1173 - accuracy: 0.9522 - val_loss: 1.1419 - val_accuracy: 0.6714\n",
      "Epoch 21/30\n",
      "1130/1130 [==============================] - 2s 2ms/sample - loss: 0.1096 - accuracy: 0.9522 - val_loss: 1.2333 - val_accuracy: 0.6360\n",
      "Epoch 22/30\n",
      "1130/1130 [==============================] - 2s 2ms/sample - loss: 0.0937 - accuracy: 0.9584 - val_loss: 1.2496 - val_accuracy: 0.6431\n",
      "Epoch 23/30\n",
      "1130/1130 [==============================] - 2s 2ms/sample - loss: 0.0851 - accuracy: 0.9673 - val_loss: 1.3549 - val_accuracy: 0.6254\n",
      "Epoch 24/30\n",
      "1130/1130 [==============================] - 2s 2ms/sample - loss: 0.0866 - accuracy: 0.9584 - val_loss: 1.3344 - val_accuracy: 0.6572\n",
      "Epoch 25/30\n",
      "1130/1130 [==============================] - 2s 2ms/sample - loss: 0.0820 - accuracy: 0.9637 - val_loss: 1.3463 - val_accuracy: 0.6537\n",
      "Epoch 26/30\n",
      "1130/1130 [==============================] - 2s 2ms/sample - loss: 0.0835 - accuracy: 0.9646 - val_loss: 1.5587 - val_accuracy: 0.6396\n",
      "Epoch 27/30\n",
      "1130/1130 [==============================] - 2s 2ms/sample - loss: 0.0904 - accuracy: 0.9566 - val_loss: 1.4795 - val_accuracy: 0.6184\n",
      "Epoch 28/30\n",
      "1130/1130 [==============================] - 2s 2ms/sample - loss: 0.1275 - accuracy: 0.9504 - val_loss: 1.4073 - val_accuracy: 0.6502\n",
      "Epoch 29/30\n",
      "1130/1130 [==============================] - 2s 2ms/sample - loss: 0.1077 - accuracy: 0.9540 - val_loss: 1.4187 - val_accuracy: 0.6290\n",
      "Epoch 30/30\n",
      "1130/1130 [==============================] - 2s 2ms/sample - loss: 0.1061 - accuracy: 0.9558 - val_loss: 1.3391 - val_accuracy: 0.6466\n"
     ]
    }
   ],
   "source": [
    "model.fit(d, epochs=30)"
   ]
  },
  {
   "cell_type": "code",
   "execution_count": null,
   "metadata": {},
   "outputs": [],
   "source": []
  }
 ],
 "metadata": {
  "kernelspec": {
   "display_name": "Python [conda env:clog] *",
   "language": "python",
   "name": "conda-env-clog-py"
  },
  "language_info": {
   "codemirror_mode": {
    "name": "ipython",
    "version": 3
   },
   "file_extension": ".py",
   "mimetype": "text/x-python",
   "name": "python",
   "nbconvert_exporter": "python",
   "pygments_lexer": "ipython3",
   "version": "3.7.7"
  }
 },
 "nbformat": 4,
 "nbformat_minor": 4
}
